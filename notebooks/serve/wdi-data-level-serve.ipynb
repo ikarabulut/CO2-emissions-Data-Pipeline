{
 "cells": [
  {
   "cell_type": "code",
   "execution_count": null,
   "metadata": {},
   "outputs": [],
   "source": [
    "from pyspark.sql import SparkSession\n",
    "\n",
    "# Initialize Spark session\n",
    "spark = SparkSession.builder \\\n",
    "    .appName(\"Iceberg Catalog Setup\") \\\n",
    "    .getOrCreate()\n",
    "\n",
    "print(\"Spark Running\")\n",
    "print(spark.sparkContext.getConf().getAll())\n",
    "print(\"current catalog:\", spark.catalog.currentCatalog())\n",
    "print(\"Spark UI:\", spark.sparkContext.uiWebUrl)"
   ]
  },
  {
   "cell_type": "code",
   "execution_count": null,
   "metadata": {},
   "outputs": [],
   "source": [
    "# Reading the WDI unpivoted data\n",
    "df_wdi_unpivoted = spark.read.table(\"wdi_serving.wdi_data_unpivoted\")"
   ]
  },
  {
   "cell_type": "code",
   "execution_count": null,
   "metadata": {},
   "outputs": [],
   "source": [
    "from datetime import datetime\n",
    "from pyspark.sql.functions import udf\n",
    "\n",
    "# Python function to generate the decade\n",
    "# This can be done in multiple ways\n",
    "# One way is to simply keep the first three chars from the year\n",
    "# and then add '0s'\n",
    "def generate_decade_value(year: int) -> str:\n",
    "  return str(year)[:3] + '0s'\n",
    "\n",
    "# We register the function as a UDF\n",
    "# We can also use the @udf annotation\n",
    "generate_decade_udf = udf(generate_decade_value)\n",
    "\n",
    "# We add the decade column\n",
    "df_wdi_unpivoted_udf_v1 = df_wdi_unpivoted.withColumn('decade', generate_decade_udf('year'))\n",
    "\n",
    "\n",
    "# we start the timer\n",
    "start = datetime.now()\n",
    "\n",
    "# We use noop format to simulate the write action\n",
    "(df_wdi_unpivoted_udf_v1\n",
    " .write\n",
    " .mode(\"overwrite\")\n",
    " .format(\"noop\")\n",
    " .save()\n",
    " )\n",
    "\n",
    "# We print the time taken by our job\n",
    "print(f'Time taken: {datetime.now() - start}')"
   ]
  },
  {
   "cell_type": "code",
   "execution_count": null,
   "metadata": {},
   "outputs": [],
   "source": [
    "import pandas as pd\n",
    "from pyspark.sql.functions import pandas_udf\n",
    "from pyspark.sql.types import StringType\n",
    "\n",
    "\n",
    "# This time we're using the annotation\n",
    "# The Pandas UDF input and output is of type pd.Series\n",
    "# We use a map function on the input Series to perform the modification\n",
    "@pandas_udf(StringType())\n",
    "def generate_decade_udf_v2(year: pd.Series) -> pd.Series:\n",
    "  return year.map(lambda x: str(x)[:3] + '0s')\n",
    "\n",
    "\n",
    "# We add the decade column\n",
    "df_wdi_unpivoted_udf_v2 = df_wdi_unpivoted.withColumn('decade', generate_decade_udf_v2('year'))\n",
    "\n",
    "\n",
    "# we start the timer\n",
    "start = datetime.now()\n",
    "\n",
    "# We use noop format to simulate the write action\n",
    "(df_wdi_unpivoted_udf_v2\n",
    " .write\n",
    " .mode(\"overwrite\")\n",
    " .format(\"noop\")\n",
    " .save())\n",
    "\n",
    "# We print the time taken by our job\n",
    "print(f'Time taken: {datetime.now() - start}')"
   ]
  },
  {
   "cell_type": "markdown",
   "metadata": {},
   "source": [
    "The Pandas UDF is faster mainly because it leverages [Apache Arrow](https://arrow.apache.org/) for the data transfer."
   ]
  },
  {
   "cell_type": "code",
   "execution_count": null,
   "metadata": {},
   "outputs": [],
   "source": [
    "(df_wdi_unpivoted_udf_v2\n",
    ".repartition(\"decade\")\n",
    ".writeTo(\"wdi_serving.decade_level_datas\")\n",
    ".partitionedBy(\"decade\")\n",
    ".options(format=\"iceberg\", mode=\"overwrite\")\n",
    ".createOrReplace()\n",
    ")"
   ]
  },
  {
   "cell_type": "code",
   "execution_count": null,
   "metadata": {},
   "outputs": [],
   "source": [
    "display(df_wdi_unpivoted_udf_v2.show(10))"
   ]
  },
  {
   "cell_type": "code",
   "execution_count": null,
   "metadata": {},
   "outputs": [],
   "source": [
    "spark.stop()"
   ]
  }
 ],
 "metadata": {
  "kernelspec": {
   "display_name": "Python 3 (ipykernel)",
   "language": "python",
   "name": "python3"
  }
 },
 "nbformat": 4,
 "nbformat_minor": 4
}
