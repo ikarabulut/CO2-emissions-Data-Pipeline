{
 "cells": [
  {
   "cell_type": "code",
   "execution_count": 22,
   "metadata": {},
   "outputs": [
    {
     "name": "stderr",
     "output_type": "stream",
     "text": [
      "24/07/16 20:02:32 WARN SparkSession: Using an existing Spark session; only runtime SQL configurations will take effect.\n"
     ]
    },
    {
     "name": "stdout",
     "output_type": "stream",
     "text": [
      "Spark Running\n",
      "[('spark.eventLog.enabled', 'true'), ('spark.driver.cores', '4'), ('spark.driver.host', '30c3b29e5e01'), ('spark.task.cpus', '4'), ('spark.executor.cores', '4'), ('spark.history.fs.logDirectory', '/home/iceberg/spark-events'), ('spark.driver.port', '41981'), ('spark.sql.catalog.demo.s3.endpoint', 'http://minio:9000'), ('spark.eventLog.dir', '/home/iceberg/spark-events'), ('spark.serializer.objectStreamReset', '100'), ('spark.master', 'local[*]'), ('spark.executor.memory', '8g'), ('spark.submit.deployMode', 'client'), ('spark.app.startTime', '1721158989297'), ('spark.app.id', 'local-1721158989882'), ('spark.driver.extraJavaOptions', '-Djava.net.preferIPv6Addresses=false -XX:+IgnoreUnrecognizedVMOptions --add-opens=java.base/java.lang=ALL-UNNAMED --add-opens=java.base/java.lang.invoke=ALL-UNNAMED --add-opens=java.base/java.lang.reflect=ALL-UNNAMED --add-opens=java.base/java.io=ALL-UNNAMED --add-opens=java.base/java.net=ALL-UNNAMED --add-opens=java.base/java.nio=ALL-UNNAMED --add-opens=java.base/java.util=ALL-UNNAMED --add-opens=java.base/java.util.concurrent=ALL-UNNAMED --add-opens=java.base/java.util.concurrent.atomic=ALL-UNNAMED --add-opens=java.base/jdk.internal.ref=ALL-UNNAMED --add-opens=java.base/sun.nio.ch=ALL-UNNAMED --add-opens=java.base/sun.nio.cs=ALL-UNNAMED --add-opens=java.base/sun.security.action=ALL-UNNAMED --add-opens=java.base/sun.util.calendar=ALL-UNNAMED --add-opens=java.security.jgss/sun.security.krb5=ALL-UNNAMED -Djdk.reflect.useDirectMethodHandle=false'), ('spark.sql.catalogImplementation', 'in-memory'), ('spark.app.submitTime', '1721158989219'), ('spark.sql.catalog.demo.warehouse', 's3://warehouse/wh/'), ('spark.sql.catalog.demo.io-impl', 'org.apache.iceberg.aws.s3.S3FileIO'), ('spark.executor.id', 'driver'), ('spark.app.name', 'PySparkShell'), ('spark.sql.extensions', 'org.apache.iceberg.spark.extensions.IcebergSparkSessionExtensions'), ('spark.sql.catalog.demo.uri', 'http://rest:8181'), ('spark.sql.catalog.demo.type', 'rest'), ('spark.rdd.compress', 'True'), ('spark.executor.extraJavaOptions', '-Djava.net.preferIPv6Addresses=false -XX:+IgnoreUnrecognizedVMOptions --add-opens=java.base/java.lang=ALL-UNNAMED --add-opens=java.base/java.lang.invoke=ALL-UNNAMED --add-opens=java.base/java.lang.reflect=ALL-UNNAMED --add-opens=java.base/java.io=ALL-UNNAMED --add-opens=java.base/java.net=ALL-UNNAMED --add-opens=java.base/java.nio=ALL-UNNAMED --add-opens=java.base/java.util=ALL-UNNAMED --add-opens=java.base/java.util.concurrent=ALL-UNNAMED --add-opens=java.base/java.util.concurrent.atomic=ALL-UNNAMED --add-opens=java.base/jdk.internal.ref=ALL-UNNAMED --add-opens=java.base/sun.nio.ch=ALL-UNNAMED --add-opens=java.base/sun.nio.cs=ALL-UNNAMED --add-opens=java.base/sun.security.action=ALL-UNNAMED --add-opens=java.base/sun.util.calendar=ALL-UNNAMED --add-opens=java.security.jgss/sun.security.krb5=ALL-UNNAMED -Djdk.reflect.useDirectMethodHandle=false'), ('spark.sql.catalog.demo', 'org.apache.iceberg.spark.SparkCatalog'), ('spark.sql.defaultCatalog', 'demo'), ('spark.sql.warehouse.dir', 'file:/home/iceberg/notebooks/spark-warehouse'), ('spark.submit.pyFiles', ''), ('spark.ui.showConsoleProgress', 'true')]\n",
      "current catalog: demo\n",
      "Spark UI: http://30c3b29e5e01:4043\n"
     ]
    }
   ],
   "source": [
    "from pyspark.sql import SparkSession\n",
    "\n",
    "# Initialize Spark session\n",
    "spark = SparkSession.builder \\\n",
    "    .appName(\"Iceberg Catalog Setup\") \\\n",
    "    .config(\"spark.sql.catalog.iceberg\", \"org.apache.iceberg.spark.SparkCatalog\") \\\n",
    "    .config(\"spark.sql.catalog.iceberg.catalog-impl\", \"org.apache.iceberg.rest.RESTCatalog\") \\\n",
    "    .config(\"spark.sql.catalog.iceberg.uri\", \"http://iceberg-rest:8181\") \\\n",
    "    .config(\"spark.sql.catalog.iceberg.warehouse\", \"warehouse\") \\\n",
    "    .config(\"spark.sql.catalog.iceberg.s3.access-key\", \"admin\") \\\n",
    "    .config(\"spark.sql.catalog.iceberg.s3.secret-key\", \"password\") \\\n",
    "    .config(\"spark.sql.catalog.iceberg.s3.endpoint\", \"http://minio:9000\") \\\n",
    "    .config(\"spark.sql.catalog.iceberg.s3.path-style-access\", \"true\") \\\n",
    "    .config(\"spark.sql.catalog.iceberg.client.factory\", \"com.starrocks.connector.iceberg.IcebergAwsClientFactory\") \\\n",
    "    .getOrCreate()\n",
    "\n",
    "print(\"Spark Running\")\n",
    "print(spark.sparkContext.getConf().getAll())\n",
    "print(\"current catalog:\", spark.catalog.currentCatalog())\n",
    "print(\"Spark UI:\", spark.sparkContext.uiWebUrl)"
   ]
  },
  {
   "cell_type": "code",
   "execution_count": 60,
   "metadata": {},
   "outputs": [
    {
     "name": "stderr",
     "output_type": "stream",
     "text": [
      "                                                                                \r"
     ]
    },
    {
     "data": {
      "text/plain": [
       "True"
      ]
     },
     "execution_count": 60,
     "metadata": {},
     "output_type": "execute_result"
    }
   ],
   "source": [
    "from pathlib import Path\n",
    "\n",
    "emissions_data_path = \"/home/iceberg/data/emissions_data\"\n",
    "\n",
    "file_path = f\"{emissions_data_path}/co2_emissions_passenger_cars_2020.json\"\n",
    "file_name = Path(file_path).stem\n",
    "\n",
    "df = spark.read.option(\"multiline\",\"true\").json(file_path)\n",
    "df.createOrReplaceTempView(f\"{file_name}_tempTable\")\n",
    "spark.sql(f\"CREATE TABLE IF NOT EXISTS raw.co2_passenger_cars_emissions.{file_name} as select * from {file_name}_tempTable\")\n",
    "spark.catalog.dropTempView(f\"{file_name}_tempTable\")"
   ]
  },
  {
   "cell_type": "code",
   "execution_count": 61,
   "metadata": {},
   "outputs": [
    {
     "name": "stdout",
     "output_type": "stream",
     "text": [
      "root\n",
      " |-- At1 (mm): long (nullable = true)\n",
      " |-- At2 (mm): long (nullable = true)\n",
      " |-- Cn: string (nullable = true)\n",
      " |-- Cr: string (nullable = true)\n",
      " |-- Ct: string (nullable = true)\n",
      " |-- De: double (nullable = true)\n",
      " |-- E (g/km): string (nullable = true)\n",
      " |-- Enedc (g/km): long (nullable = true)\n",
      " |-- Enedc (g/km) V2: double (nullable = true)\n",
      " |-- Er (g/km): string (nullable = true)\n",
      " |-- Ernedc (g/km): double (nullable = true)\n",
      " |-- Erwltp (g/km): double (nullable = true)\n",
      " |-- Ewltp (g/km): long (nullable = true)\n",
      " |-- Fm: string (nullable = true)\n",
      " |-- Ft: string (nullable = true)\n",
      " |-- ID: long (nullable = true)\n",
      " |-- It: string (nullable = true)\n",
      " |-- MMS: string (nullable = true)\n",
      " |-- MS: string (nullable = true)\n",
      " |-- Man: string (nullable = true)\n",
      " |-- Mh: string (nullable = true)\n",
      " |-- Mk: string (nullable = true)\n",
      " |-- Mp: string (nullable = true)\n",
      " |-- Mt: long (nullable = true)\n",
      " |-- Status: string (nullable = true)\n",
      " |-- T: string (nullable = true)\n",
      " |-- TAN: string (nullable = true)\n",
      " |-- VFN: string (nullable = true)\n",
      " |-- Va: string (nullable = true)\n",
      " |-- Ve: string (nullable = true)\n",
      " |-- Vf: long (nullable = true)\n",
      " |-- W (mm): long (nullable = true)\n",
      " |-- Zr: string (nullable = true)\n",
      " |-- ec (cm3): long (nullable = true)\n",
      " |-- ep (KW): long (nullable = true)\n",
      " |-- m (kg): long (nullable = true)\n",
      " |-- r: long (nullable = true)\n",
      " |-- version_file: string (nullable = true)\n",
      " |-- year: long (nullable = true)\n",
      " |-- z (Wh/km): string (nullable = true)\n",
      "\n"
     ]
    }
   ],
   "source": [
    "co2_emissions_2020_df = spark.read.table(\"raw.co2_passenger_cars_emissions.co2_emissions_passenger_cars_2020\")\n",
    "\n",
    "co2_emissions_2020_df.printSchema()\n"
   ]
  },
  {
   "cell_type": "code",
   "execution_count": 62,
   "metadata": {},
   "outputs": [
    {
     "name": "stdout",
     "output_type": "stream",
     "text": [
      "Original Column names:: ['At1 (mm)', 'At2 (mm)', 'Cn', 'Cr', 'Ct', 'De', 'E (g/km)', 'Enedc (g/km)', 'Enedc (g/km) V2', 'Er (g/km)', 'Ernedc (g/km)', 'Erwltp (g/km)', 'Ewltp (g/km)', 'Fm', 'Ft', 'ID', 'It', 'MMS', 'MS', 'Man', 'Mh', 'Mk', 'Mp', 'Mt', 'Status', 'T', 'TAN', 'VFN', 'Va', 'Ve', 'Vf', 'W (mm)', 'Zr', 'ec (cm3)', 'ep (KW)', 'm (kg)', 'r', 'version_file', 'year', 'z (Wh/km)']\n",
      "Updated Column names:: ['At1_mm', 'At2_mm', 'Cn', 'Cr', 'Ct', 'De', 'E_g/km', 'Enedc_g/km', 'Enedc_g/km_V2', 'Er_g/km', 'Ernedc_g/km', 'Erwltp_g/km', 'Ewltp_g/km', 'Fm', 'Ft', 'ID', 'It', 'MMS', 'MS', 'Man', 'Mh', 'Mk', 'Mp', 'Mt', 'Status', 'T', 'TAN', 'VFN', 'Va', 'Ve', 'Vf', 'W_mm', 'Zr', 'ec_cm3', 'ep_KW', 'm_kg', 'r', 'version_file', 'year', 'z_Wh/km']\n",
      "Number of records of CO2 emissions dataframe before dropping nulls: 100000\n",
      "Number of records of CO2 emissions dataframe after dropping nulls: 100000\n",
      "Number of records of CO2 emissions dataframe before dropping duplicates: 100000\n",
      "Number of records of CO2 emissions dataframe after dropping duplicates: 100000\n",
      "Number of records of CO2 emissions dataframe before MS filter: 100000\n",
      "Number of records of CO2 emissions dataframe after MS filter: 100000\n"
     ]
    }
   ],
   "source": [
    "import re\n",
    "import pyspark.sql.functions as F\n",
    "\n",
    "# ------ Applying the data quality filters --------\n",
    "\n",
    "# Replace spaces in column names with underscores and remove ()\n",
    "co2_emissions_columns = co2_emissions_2020_df.columns\n",
    "print(f\"Original Column names:: {co2_emissions_2020_df.columns}\")\n",
    "\n",
    "co2_emissions_2020_df = (co2_emissions_2020_df.select(\n",
    "                      [F.col(col).alias(re.sub('[()]', '', col.replace(' ', '_'))) for col in co2_emissions_2020_df.columns]\n",
    "                    ))\n",
    "\n",
    "\n",
    "print(f\"Updated Column names:: {co2_emissions_2020_df.columns}\")\n",
    "\n",
    "# Drop null records\n",
    "print(f\"Number of records of CO2 emissions dataframe before dropping nulls: {co2_emissions_2020_df.count()}\")\n",
    "co2_emissions_2020_df = co2_emissions_2020_df.na.drop('all')\n",
    "print(f\"Number of records of CO2 emissions dataframe after dropping nulls: {co2_emissions_2020_df.count()}\")\n",
    "\n",
    "# Drop duplicates\n",
    "print(f\"Number of records of CO2 emissions dataframe before dropping duplicates: {co2_emissions_2020_df.count()}\")\n",
    "co2_emissions_2020_df = co2_emissions_2020_df.distinct()\n",
    "print(f\"Number of records of CO2 emissions dataframe after dropping duplicates: {co2_emissions_2020_df.count()}\")\n",
    "\n",
    "# Filter records with corrupt Member State code - We keep values with two uppercase letters\n",
    "print(f\"Number of records of CO2 emissions dataframe before MS filter: {co2_emissions_2020_df.count()}\")\n",
    "co2_emissions_2020_df = co2_emissions_2020_df.filter(co2_emissions_2020_df['MS'].rlike('^[A-Z][A-Z]$'))\n",
    "print(f\"Number of records of CO2 emissions dataframe after MS filter: {co2_emissions_2020_df.count()}\")"
   ]
  },
  {
   "cell_type": "code",
   "execution_count": 63,
   "metadata": {},
   "outputs": [
    {
     "name": "stdout",
     "output_type": "stream",
     "text": [
      "+------+------+--------------------+---+---+------+------+----------+-----------------+-------+-----------+-----------+----------+---+------+--------+---+--------------------+---+--------------------+----------------+--------------------+-------------+----+------+------------+-------------------+--------------------+--------------+--------------------+----+----+----+------+-----+----+---+------------+----+-------+\n",
      "|At1_mm|At2_mm|                  Cn| Cr| Ct|    De|E_g/km|Enedc_g/km|    Enedc_g/km_V2|Er_g/km|Ernedc_g/km|Erwltp_g/km|Ewltp_g/km| Fm|    Ft|      ID| It|                 MMS| MS|                 Man|              Mh|                  Mk|           Mp|  Mt|Status|           T|                TAN|                 VFN|            Va|                  Ve|  Vf|W_mm|  Zr|ec_cm3|ep_KW|m_kg|  r|version_file|year|z_Wh/km|\n",
      "+------+------+--------------------+---+---+------+------+----------+-----------------+-------+-----------+-----------+----------+---+------+--------+---+--------------------+---+--------------------+----------------+--------------------+-------------+----+------+------------+-------------------+--------------------+--------------+--------------------+----+----+----+------+-----+----+---+------------+----+-------+\n",
      "|  NULL|  NULL|                URUS| M1| M1|  NULL|  NULL|       415|456.5000000000001|   NULL|       NULL|       NULL|      NULL|  M|PETROL| 7414907|   |     LAMBORGHINI (I)| DE|              AA-IVA|          AA-IVA|AUTOMOBILI LAMBOR...|             |NULL|     P|          4L|                   |                    |          URUS|               LAMBO|NULL|NULL|NULL|  3993|  478|2430|  1|         v21|2020|   NULL|\n",
      "|  NULL|  NULL|       DODGE CHARGER| M1| M1|  NULL|  NULL|       401|            441.1|   NULL|       NULL|       NULL|      NULL|  M|PETROL| 2117642|   |           FCA (USA)| DE|              AA-IVA|          AA-IVA|               DODGE|             |NULL|     P|     CHARGER|                   |                    |HELLCATDAYTONA|                    |NULL|NULL|NULL|  6166|  535|2117|  1|         v21|2020|   NULL|\n",
      "|  NULL|  NULL|CHALLENGER SRT HE...| M1| M1|  NULL|  NULL|       400|440.0000000000001|   NULL|       NULL|       NULL|       400|  M|PETROL| 7415683|   |           FCA (USA)| DE|              AA-IVA|          AA-IVA|               DODGE|             |NULL|     P|  CHALLENGER|                   |                    |              |                    |NULL|NULL|NULL|  6166|  535|2105|  1|         v21|2020|   NULL|\n",
      "|  NULL|  NULL|      CHALLENGER SRT| M1| M1|  NULL|  NULL|       398|            437.8|   NULL|       NULL|       NULL|       398|  M|PETROL| 7415652|   |           FCA (USA)| DE|              AA-IVA|          AA-IVA|               DODGE|             |NULL|     P|  CHALLENGER|                   |                    |           SRT|             HELLCAT|NULL|NULL|NULL|  6166|  535|2090|  1|         v21|2020|   NULL|\n",
      "|  1618|  1665|              WRAITH| M1| M1|  NULL|  NULL|       367|403.7000000000001|   NULL|       NULL|       NULL|       367|  M|PETROL| 8195977|   | ROLLS-ROYCE MC (GB)| DE|ROLLS-ROYCE MOTOR...|     ROLLS ROYCE|         ROLLS-ROYCE|          BMW|2518|     P|GHOST FAMILY| E1*2007/46*1989*00|    IP-0010421-SCA-1|          XZ01|            DAW400B0|NULL|3112|NULL|  6592|  441|2435|  1|         v21|2020|   NULL|\n",
      "|  1674|  1674|           GTC4LUSSO| M1| M1|  NULL|  NULL|       350|385.0000000000001|   NULL|       NULL|       NULL|       366|  M|PETROL|10225809|   |         FERRARI SPA| FR|         FERRARI SPA|         FERRARI|             FERRARI|             |NULL|     P|        F151|e24*KS07/46*0025*13| IP-03-ZFF-2018-0004|            BM|                   E|NULL|2990|NULL|  6262|  507|1995|  1|         v21|2020|   NULL|\n",
      "|  1610|  1650|      MULSANNE SPEED| M1| M1|  NULL|  NULL|       350|385.0000000000001|   NULL|       NULL|       NULL|       365|  M|PETROL| 2172319|   |BENTLEY MOTORS LI...| NL|              AA-IVA|          AA-IVA|             BENTLEY|             |2989|     P|          3Y|e11*KS07/46*0116*06| IP-11-SCB-2018-0001|          BD5Z|                   1|NULL|3270|NULL|  6752|  395|2760|  1|         v21|2020|   NULL|\n",
      "|  1668|  1674|          GTC4 LUSSO| M1| M1|  NULL|  NULL|       350|385.0000000000001|   NULL|       NULL|       NULL|       366|  M|PETROL|10224790|   |         FERRARI (I)| DE|         FERRARI SPA|         FERRARI|             FERRARI|             |2141|     P|        F151|E24*KS07/46*0025*13| IP-03-ZFF-2018-0004|            BM|                   E|NULL|2990|NULL|  6262|  507|1995|  1|         v21|2020|   NULL|\n",
      "|  1672|  1645|             812 GTS| M1| M1|  NULL|  NULL|       345|379.5000000000001|   NULL|       NULL|       NULL|       373|  M|PETROL| 5811709|   |         FERRARI SPA| AT|         FERRARI SPA|         FERRARI|             FERRARI|             |1965|     P|       F 152|e24*KS07/46*0077*12|    IP-F152BDE-ZFF-1|            BD|                   E|NULL|2720|NULL|  6496|  585|1865|  1|         v21|2020|   NULL|\n",
      "|  1672|  1672|             812 GTS| M1| M1|  NULL|  NULL|       345|379.5000000000001|   NULL|       NULL|       NULL|      NULL|  M|PETROL|10226007|   |             FERRARI| CZ|         FERRARI SPA|         FERRARI|             FERRARI|             |1965|     P|        F152|e24*KS07/46*0077*12|    IP-F152BDE-ZFF-1|            BD|                   E|NULL|2720|NULL|  6496|  585|1865|  1|         v21|2020|   NULL|\n",
      "|  1674|  1698|  GHOST V12 4X4 AUTO| M1| M1|  NULL|  NULL|       343|            377.3|   NULL|       NULL|       NULL|       357|  M|PETROL| 9931364|   |         ROLLS ROYCE| GB|ROLLS-ROYCE MOTOR...|     ROLLS ROYCE|         ROLLS ROYCE|          BMW|2735|     P|            | e1*ks07/46*0077*00|                    |          TD22|            IAW50000|NULL|3295|NULL|  6749| NULL|2490|  1|         v21|2020|   NULL|\n",
      "|  1668|  1668|             HURACAN| M1| M1|  NULL|  NULL|       335|368.5000000000001|   NULL|       NULL|       NULL|       338|  M|PETROL| 3450329|   |AUTOMOBILI LAMBOR...| FR|AUTOMOBILI LAMBOR...|     LAMBORGHINI|         LAMBORGHINI|             |1866|     P|         724| e3*KS07/46*0279*09| IP-03-ZHW-2019-0001|            T2|            1AACADEE|NULL|2620|NULL|  5204|  470|1727|  1|         v21|2020|   NULL|\n",
      "|  1657|  1658|AMG G 63 4MATIC AUTO|M1G| M1|  NULL|  NULL|       330|363.0000000000001|   NULL|       NULL|       NULL|       373|  M|PETROL| 9863878|   |            MERCEDES| GB|    MERCEDES-BENZ AG|MERCEDES-BENZ AG|            MERCEDES|MERCEDES-BENZ|2794|     P|        463A| e1*2007/46*1830*06|                    |        C78FT1|            CZAA050A|NULL|2890|NULL|  3982| NULL|2560|  1|         v21|2020|   NULL|\n",
      "|  1657|  1658|AMG G 63 4MATIC AUTO|M1G| M1|  NULL|  NULL|       330|363.0000000000001|   NULL|       NULL|       NULL|       373|  M|PETROL| 9864079|   |            MERCEDES| GB|    MERCEDES-BENZ AG|MERCEDES-BENZ AG|            MERCEDES|MERCEDES-BENZ|2794|     P|        463A| e1*2007/46*1830*06|                    |        C78FT1|            CZAA050A|NULL|2890|NULL|  3982| NULL|2560|  1|         v21|2020|   NULL|\n",
      "|  1657|  1658|            AMG G 63|M1G|M1G|-0.006|  NULL|       330|363.0000000000001|   NULL|       NULL|       NULL|       373|  M|PETROL| 6028640|   |    MERCEDES-BENZ AG| SE|    MERCEDES-BENZ AG|MERCEDES-BENZ AG|       MERCEDES-BENZ|MERCEDES-BENZ|2794|     P|        463A| E1*2007/46*1830*06|  IP-2020_1824-W1K-1|        C78FT1|            CZAA050A|   0|2890|NULL|  3982|  430|2560|  1|         v21|2020|   NULL|\n",
      "|  1610|  1622|                  A8| M1| M1|  NULL|  NULL|       330|363.0000000000001|   NULL|       NULL|       NULL|       402|  H|PETROL| 3605663|   |                AUDI| DE|             AUDI AG|         AUDI AG|                AUDI|   VOLKSWAGEN|4194|     P|          F8| E1*2007/46*1751*13|IP-MLB65ZZ_A0_063...|       ZCWWBQ1|QA8QA8D6005RT91C7...|NULL|3128|NULL|  3996|  420|3950|  1|         v21|2020|   NULL|\n",
      "|  1586|  1590|GRANCABRIO SPORT ...| M1| M1|  NULL|  NULL|       328|            360.8|   NULL|       NULL|       NULL|       345|  M|PETROL|10698935|   |            MASERATI| GB|        MASERATI SPA|        MASERATI|            MASERATI|             |2129|     P|        M145|e3*2001/116*0262*17|                    |            GD|                 AAG|NULL|2942|NULL|  4691| NULL|2055|  1|         v21|2020|   NULL|\n",
      "|  1689|  1693| BENTAYGA SPEED AUTO|M1G| M1|  NULL|  NULL|       320|            352.0|   NULL|       NULL|       NULL|       335|  M|PETROL| 9606072|   |             BENTLEY| GB|  BENTLEY MOTORS LTD|         BENTLEY|             BENTLEY|             |2804|     P|          4V| e5*2007/46*1125*00|IP-4V_2019_W12S_0...|        AF5ZAD|                   2|NULL|2995|NULL|  5950| NULL|2558|  1|         v21|2020|   NULL|\n",
      "|  1689|  1693| BENTAYGA SPEED AUTO|M1G| M1|  NULL|  NULL|       320|            352.0|   NULL|       NULL|       NULL|       335|  M|PETROL| 9605775|   |             BENTLEY| GB|  BENTLEY MOTORS LTD|         BENTLEY|             BENTLEY|             |2804|     P|          4V| e5*2007/46*1125*00|IP-4V_2019_W12S_0...|        AF7ZAD|                   2|NULL|2995|NULL|  5950| NULL|2590|  1|         v21|2020|   NULL|\n",
      "|  1634|  1647|               S 600| M1| M1|  NULL|  NULL|       320|            352.0|   NULL|       NULL|       NULL|       320|  M|PETROL| 7966606|   |       MERCEDES-BENZ| DE|    MERCEDES-BENZ AG|MERCEDES-BENZ AG|       MERCEDES-BENZ|MERCEDES-BENZ|2516|     P|         221|E1*2001/116*0335*45|  IP-2017_1202-WDB-1|        P17BS0|            NZAC050A|NULL|3165|NULL|  5980|  390|2235|  1|         v21|2020|   NULL|\n",
      "+------+------+--------------------+---+---+------+------+----------+-----------------+-------+-----------+-----------+----------+---+------+--------+---+--------------------+---+--------------------+----------------+--------------------+-------------+----+------+------------+-------------------+--------------------+--------------+--------------------+----+----+----+------+-----+----+---+------------+----+-------+\n",
      "only showing top 20 rows\n",
      "\n"
     ]
    },
    {
     "data": {
      "text/plain": [
       "None"
      ]
     },
     "metadata": {},
     "output_type": "display_data"
    }
   ],
   "source": [
    "# Notice the new column in the output (Enedc_g/km_V2)\n",
    "display(co2_emissions_2020_df.show())"
   ]
  },
  {
   "cell_type": "code",
   "execution_count": 64,
   "metadata": {},
   "outputs": [
    {
     "ename": "AnalysisException",
     "evalue": "[INCOMPATIBLE_DATA_FOR_TABLE.CANNOT_FIND_DATA] Cannot write incompatible data for the table `demo`.`curated`.`co2_passenger_cars_emissions`: Cannot find data for the output column `Enedc_g/km_deprecated`.",
     "output_type": "error",
     "traceback": [
      "\u001b[0;31m---------------------------------------------------------------------------\u001b[0m",
      "\u001b[0;31mAnalysisException\u001b[0m                         Traceback (most recent call last)",
      "Cell \u001b[0;32mIn[64], line 8\u001b[0m\n\u001b[1;32m      5\u001b[0m co2_emissions_2020_df \u001b[38;5;241m=\u001b[39m co2_emissions_2020_df\u001b[38;5;241m.\u001b[39mrepartition(\u001b[38;5;124m'\u001b[39m\u001b[38;5;124myear\u001b[39m\u001b[38;5;124m'\u001b[39m)\n\u001b[1;32m      6\u001b[0m co2_emissions_2020_df \u001b[38;5;241m=\u001b[39m co2_emissions_2020_df\u001b[38;5;241m.\u001b[39mwithColumn(\u001b[38;5;124m'\u001b[39m\u001b[38;5;124mz_Wh/km\u001b[39m\u001b[38;5;124m'\u001b[39m, F\u001b[38;5;241m.\u001b[39mcol(\u001b[38;5;124m'\u001b[39m\u001b[38;5;124mz_Wh/km\u001b[39m\u001b[38;5;124m'\u001b[39m)\u001b[38;5;241m.\u001b[39mcast(LongType()))\n\u001b[1;32m      7\u001b[0m (\n\u001b[0;32m----> 8\u001b[0m   \u001b[43mco2_emissions_2020_df\u001b[49m\n\u001b[1;32m      9\u001b[0m \u001b[43m  \u001b[49m\u001b[38;5;241;43m.\u001b[39;49m\u001b[43mwrite\u001b[49m\n\u001b[1;32m     10\u001b[0m \u001b[43m  \u001b[49m\u001b[38;5;241;43m.\u001b[39;49m\u001b[43mmode\u001b[49m\u001b[43m(\u001b[49m\u001b[38;5;124;43m'\u001b[39;49m\u001b[38;5;124;43mappend\u001b[39;49m\u001b[38;5;124;43m'\u001b[39;49m\u001b[43m)\u001b[49m\n\u001b[1;32m     11\u001b[0m \u001b[43m  \u001b[49m\u001b[38;5;241;43m.\u001b[39;49m\u001b[43mpartitionBy\u001b[49m\u001b[43m(\u001b[49m\u001b[38;5;124;43m'\u001b[39;49m\u001b[38;5;124;43myear\u001b[39;49m\u001b[38;5;124;43m'\u001b[39;49m\u001b[43m)\u001b[49m\n\u001b[1;32m     12\u001b[0m \u001b[43m  \u001b[49m\u001b[38;5;241;43m.\u001b[39;49m\u001b[43mformat\u001b[49m\u001b[43m(\u001b[49m\u001b[38;5;124;43m'\u001b[39;49m\u001b[38;5;124;43miceberg\u001b[39;49m\u001b[38;5;124;43m'\u001b[39;49m\u001b[43m)\u001b[49m\n\u001b[1;32m     13\u001b[0m \u001b[43m  \u001b[49m\u001b[38;5;241;43m.\u001b[39;49m\u001b[43msaveAsTable\u001b[49m\u001b[43m(\u001b[49m\u001b[38;5;124;43m'\u001b[39;49m\u001b[38;5;124;43mcurated.co2_passenger_cars_emissions\u001b[39;49m\u001b[38;5;124;43m'\u001b[39;49m\u001b[43m)\u001b[49m\n\u001b[1;32m     14\u001b[0m )\n",
      "File \u001b[0;32m/opt/spark/python/pyspark/sql/readwriter.py:1586\u001b[0m, in \u001b[0;36mDataFrameWriter.saveAsTable\u001b[0;34m(self, name, format, mode, partitionBy, **options)\u001b[0m\n\u001b[1;32m   1584\u001b[0m \u001b[38;5;28;01mif\u001b[39;00m \u001b[38;5;28mformat\u001b[39m \u001b[38;5;129;01mis\u001b[39;00m \u001b[38;5;129;01mnot\u001b[39;00m \u001b[38;5;28;01mNone\u001b[39;00m:\n\u001b[1;32m   1585\u001b[0m     \u001b[38;5;28mself\u001b[39m\u001b[38;5;241m.\u001b[39mformat(\u001b[38;5;28mformat\u001b[39m)\n\u001b[0;32m-> 1586\u001b[0m \u001b[38;5;28;43mself\u001b[39;49m\u001b[38;5;241;43m.\u001b[39;49m\u001b[43m_jwrite\u001b[49m\u001b[38;5;241;43m.\u001b[39;49m\u001b[43msaveAsTable\u001b[49m\u001b[43m(\u001b[49m\u001b[43mname\u001b[49m\u001b[43m)\u001b[49m\n",
      "File \u001b[0;32m/opt/spark/python/lib/py4j-0.10.9.7-src.zip/py4j/java_gateway.py:1322\u001b[0m, in \u001b[0;36mJavaMember.__call__\u001b[0;34m(self, *args)\u001b[0m\n\u001b[1;32m   1316\u001b[0m command \u001b[38;5;241m=\u001b[39m proto\u001b[38;5;241m.\u001b[39mCALL_COMMAND_NAME \u001b[38;5;241m+\u001b[39m\\\n\u001b[1;32m   1317\u001b[0m     \u001b[38;5;28mself\u001b[39m\u001b[38;5;241m.\u001b[39mcommand_header \u001b[38;5;241m+\u001b[39m\\\n\u001b[1;32m   1318\u001b[0m     args_command \u001b[38;5;241m+\u001b[39m\\\n\u001b[1;32m   1319\u001b[0m     proto\u001b[38;5;241m.\u001b[39mEND_COMMAND_PART\n\u001b[1;32m   1321\u001b[0m answer \u001b[38;5;241m=\u001b[39m \u001b[38;5;28mself\u001b[39m\u001b[38;5;241m.\u001b[39mgateway_client\u001b[38;5;241m.\u001b[39msend_command(command)\n\u001b[0;32m-> 1322\u001b[0m return_value \u001b[38;5;241m=\u001b[39m \u001b[43mget_return_value\u001b[49m\u001b[43m(\u001b[49m\n\u001b[1;32m   1323\u001b[0m \u001b[43m    \u001b[49m\u001b[43manswer\u001b[49m\u001b[43m,\u001b[49m\u001b[43m \u001b[49m\u001b[38;5;28;43mself\u001b[39;49m\u001b[38;5;241;43m.\u001b[39;49m\u001b[43mgateway_client\u001b[49m\u001b[43m,\u001b[49m\u001b[43m \u001b[49m\u001b[38;5;28;43mself\u001b[39;49m\u001b[38;5;241;43m.\u001b[39;49m\u001b[43mtarget_id\u001b[49m\u001b[43m,\u001b[49m\u001b[43m \u001b[49m\u001b[38;5;28;43mself\u001b[39;49m\u001b[38;5;241;43m.\u001b[39;49m\u001b[43mname\u001b[49m\u001b[43m)\u001b[49m\n\u001b[1;32m   1325\u001b[0m \u001b[38;5;28;01mfor\u001b[39;00m temp_arg \u001b[38;5;129;01min\u001b[39;00m temp_args:\n\u001b[1;32m   1326\u001b[0m     \u001b[38;5;28;01mif\u001b[39;00m \u001b[38;5;28mhasattr\u001b[39m(temp_arg, \u001b[38;5;124m\"\u001b[39m\u001b[38;5;124m_detach\u001b[39m\u001b[38;5;124m\"\u001b[39m):\n",
      "File \u001b[0;32m/opt/spark/python/pyspark/errors/exceptions/captured.py:185\u001b[0m, in \u001b[0;36mcapture_sql_exception.<locals>.deco\u001b[0;34m(*a, **kw)\u001b[0m\n\u001b[1;32m    181\u001b[0m converted \u001b[38;5;241m=\u001b[39m convert_exception(e\u001b[38;5;241m.\u001b[39mjava_exception)\n\u001b[1;32m    182\u001b[0m \u001b[38;5;28;01mif\u001b[39;00m \u001b[38;5;129;01mnot\u001b[39;00m \u001b[38;5;28misinstance\u001b[39m(converted, UnknownException):\n\u001b[1;32m    183\u001b[0m     \u001b[38;5;66;03m# Hide where the exception came from that shows a non-Pythonic\u001b[39;00m\n\u001b[1;32m    184\u001b[0m     \u001b[38;5;66;03m# JVM exception message.\u001b[39;00m\n\u001b[0;32m--> 185\u001b[0m     \u001b[38;5;28;01mraise\u001b[39;00m converted \u001b[38;5;28;01mfrom\u001b[39;00m \u001b[38;5;28;01mNone\u001b[39;00m\n\u001b[1;32m    186\u001b[0m \u001b[38;5;28;01melse\u001b[39;00m:\n\u001b[1;32m    187\u001b[0m     \u001b[38;5;28;01mraise\u001b[39;00m\n",
      "\u001b[0;31mAnalysisException\u001b[0m: [INCOMPATIBLE_DATA_FOR_TABLE.CANNOT_FIND_DATA] Cannot write incompatible data for the table `demo`.`curated`.`co2_passenger_cars_emissions`: Cannot find data for the output column `Enedc_g/km_deprecated`."
     ]
    }
   ],
   "source": [
    "from pyspark.sql.types import LongType\n",
    "# We use repartition() to get one file per partition value\n",
    "# We're dropping the column z_Wh/km because it only contains null values for this year\n",
    "# Do the same to other columns that may cause issues, except the column Enedc_g/km_V2\n",
    "co2_emissions_2020_df = co2_emissions_2020_df.repartition('year')\n",
    "co2_emissions_2020_df = co2_emissions_2020_df.withColumn('z_Wh/km', F.col('z_Wh/km').cast(LongType()))\n",
    "(\n",
    "  co2_emissions_2020_df\n",
    "  .write\n",
    "  .mode('append')\n",
    "  .partitionBy('year')\n",
    "  .format('iceberg')\n",
    "  .saveAsTable('curated.co2_passenger_cars_emissions')\n",
    ")"
   ]
  },
  {
   "cell_type": "code",
   "execution_count": 66,
   "metadata": {},
   "outputs": [],
   "source": [
    "# Updating the columns to match business requirements\n",
    "co2_emissions_2020_df = (co2_emissions_2020_df\n",
    "                      .withColumnRenamed('Enedc_g/km', 'Enedc_g/km_deprecated')\n",
    "                      .withColumnRenamed('Enedc_g/km_V2', 'Enedc_g/km')\n",
    "                      )\n",
    "\n",
    "spark.sql(\"\"\"\n",
    "  ALTER TABLE curated.co2_passenger_cars_emissions\n",
    "  ADD COLUMNS (`Enedc_g/km_deprecated` DOUBLE)\n",
    "\"\"\")\n",
    "\n",
    "# Trying the ingest again\n",
    "df_co2_emissions = co2_emissions_2020_df.repartition('year')\n",
    "(\n",
    "  df_co2_emissions\n",
    "  .write\n",
    "  .mode('append')\n",
    "  .partitionBy('year')\n",
    "  .format('iceberg')\n",
    "  .option('mergeSchema', 'true')\n",
    "  .saveAsTable('curated.co2_passenger_cars_emissions')\n",
    ")"
   ]
  },
  {
   "cell_type": "code",
   "execution_count": 87,
   "metadata": {},
   "outputs": [
    {
     "name": "stdout",
     "output_type": "stream",
     "text": [
      "+-----------------------+-------------------+-------------------+-------------------+\n",
      "|made_current_at        |snapshot_id        |parent_id          |is_current_ancestor|\n",
      "+-----------------------+-------------------+-------------------+-------------------+\n",
      "|2024-07-16 19:12:17.524|873909206733898876 |NULL               |true               |\n",
      "|2024-07-16 20:37:13.642|6502908078235518678|873909206733898876 |true               |\n",
      "|2024-07-16 20:38:48.019|5011446837778532254|6502908078235518678|true               |\n",
      "+-----------------------+-------------------+-------------------+-------------------+\n",
      "\n"
     ]
    }
   ],
   "source": [
    "# Query the history of the table\n",
    "history_df = spark.read.format(\"iceberg\") \\\n",
    "    .load(\"curated.co2_passenger_cars_emissions.history\")\n",
    "\n",
    "# Show the results to display the history\n",
    "history_df.show(truncate=False)"
   ]
  }
 ],
 "metadata": {
  "kernelspec": {
   "display_name": "Python 3 (ipykernel)",
   "language": "python",
   "name": "python3"
  },
  "language_info": {
   "codemirror_mode": {
    "name": "ipython",
    "version": 3
   },
   "file_extension": ".py",
   "mimetype": "text/x-python",
   "name": "python",
   "nbconvert_exporter": "python",
   "pygments_lexer": "ipython3",
   "version": "3.9.19"
  }
 },
 "nbformat": 4,
 "nbformat_minor": 2
}
