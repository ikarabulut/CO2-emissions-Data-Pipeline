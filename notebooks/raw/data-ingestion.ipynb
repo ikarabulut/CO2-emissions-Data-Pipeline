{
 "cells": [
  {
   "cell_type": "code",
   "execution_count": 1,
   "metadata": {},
   "outputs": [
    {
     "name": "stderr",
     "output_type": "stream",
     "text": [
      "24/07/15 00:41:50 WARN SparkSession: Using an existing Spark session; only runtime SQL configurations will take effect.\n"
     ]
    },
    {
     "name": "stdout",
     "output_type": "stream",
     "text": [
      "Spark Running\n",
      "[('spark.eventLog.enabled', 'true'), ('spark.driver.cores', '4'), ('spark.task.cpus', '4'), ('spark.app.id', 'local-1721004109123'), ('spark.executor.cores', '4'), ('spark.history.fs.logDirectory', '/home/iceberg/spark-events'), ('spark.sql.catalog.demo.s3.endpoint', 'http://minio:9000'), ('spark.eventLog.dir', '/home/iceberg/spark-events'), ('spark.serializer.objectStreamReset', '100'), ('spark.master', 'local[*]'), ('spark.executor.memory', '8g'), ('spark.submit.deployMode', 'client'), ('spark.driver.extraJavaOptions', '-Djava.net.preferIPv6Addresses=false -XX:+IgnoreUnrecognizedVMOptions --add-opens=java.base/java.lang=ALL-UNNAMED --add-opens=java.base/java.lang.invoke=ALL-UNNAMED --add-opens=java.base/java.lang.reflect=ALL-UNNAMED --add-opens=java.base/java.io=ALL-UNNAMED --add-opens=java.base/java.net=ALL-UNNAMED --add-opens=java.base/java.nio=ALL-UNNAMED --add-opens=java.base/java.util=ALL-UNNAMED --add-opens=java.base/java.util.concurrent=ALL-UNNAMED --add-opens=java.base/java.util.concurrent.atomic=ALL-UNNAMED --add-opens=java.base/jdk.internal.ref=ALL-UNNAMED --add-opens=java.base/sun.nio.ch=ALL-UNNAMED --add-opens=java.base/sun.nio.cs=ALL-UNNAMED --add-opens=java.base/sun.security.action=ALL-UNNAMED --add-opens=java.base/sun.util.calendar=ALL-UNNAMED --add-opens=java.security.jgss/sun.security.krb5=ALL-UNNAMED -Djdk.reflect.useDirectMethodHandle=false'), ('spark.sql.catalogImplementation', 'in-memory'), ('spark.sql.catalog.demo.warehouse', 's3://warehouse/wh/'), ('spark.sql.catalog.demo.io-impl', 'org.apache.iceberg.aws.s3.S3FileIO'), ('spark.executor.id', 'driver'), ('spark.app.name', 'PySparkShell'), ('spark.app.submitTime', '1721004108412'), ('spark.sql.extensions', 'org.apache.iceberg.spark.extensions.IcebergSparkSessionExtensions'), ('spark.sql.catalog.demo.uri', 'http://rest:8181'), ('spark.driver.host', '29b2b8359a34'), ('spark.sql.catalog.demo.type', 'rest'), ('spark.rdd.compress', 'True'), ('spark.executor.extraJavaOptions', '-Djava.net.preferIPv6Addresses=false -XX:+IgnoreUnrecognizedVMOptions --add-opens=java.base/java.lang=ALL-UNNAMED --add-opens=java.base/java.lang.invoke=ALL-UNNAMED --add-opens=java.base/java.lang.reflect=ALL-UNNAMED --add-opens=java.base/java.io=ALL-UNNAMED --add-opens=java.base/java.net=ALL-UNNAMED --add-opens=java.base/java.nio=ALL-UNNAMED --add-opens=java.base/java.util=ALL-UNNAMED --add-opens=java.base/java.util.concurrent=ALL-UNNAMED --add-opens=java.base/java.util.concurrent.atomic=ALL-UNNAMED --add-opens=java.base/jdk.internal.ref=ALL-UNNAMED --add-opens=java.base/sun.nio.ch=ALL-UNNAMED --add-opens=java.base/sun.nio.cs=ALL-UNNAMED --add-opens=java.base/sun.security.action=ALL-UNNAMED --add-opens=java.base/sun.util.calendar=ALL-UNNAMED --add-opens=java.security.jgss/sun.security.krb5=ALL-UNNAMED -Djdk.reflect.useDirectMethodHandle=false'), ('spark.sql.catalog.demo', 'org.apache.iceberg.spark.SparkCatalog'), ('spark.sql.defaultCatalog', 'demo'), ('spark.sql.warehouse.dir', 'file:/home/iceberg/notebooks/spark-warehouse'), ('spark.submit.pyFiles', ''), ('spark.app.startTime', '1721004108542'), ('spark.ui.showConsoleProgress', 'true'), ('spark.driver.port', '33119')]\n",
      "current catalog: demo\n",
      "Spark UI: http://29b2b8359a34:4041\n"
     ]
    }
   ],
   "source": [
    "from pyspark.sql import SparkSession\n",
    "\n",
    "# Initialize Spark session\n",
    "spark = SparkSession.builder \\\n",
    "    .appName(\"Iceberg Catalog Setup\") \\\n",
    "    .config(\"spark.sql.catalog.iceberg\", \"org.apache.iceberg.spark.SparkCatalog\") \\\n",
    "    .config(\"spark.sql.catalog.iceberg.catalog-impl\", \"org.apache.iceberg.rest.RESTCatalog\") \\\n",
    "    .config(\"spark.sql.catalog.iceberg.uri\", \"http://iceberg-rest:8181\") \\\n",
    "    .config(\"spark.sql.catalog.iceberg.warehouse\", \"warehouse\") \\\n",
    "    .config(\"spark.sql.catalog.iceberg.s3.access-key\", \"admin\") \\\n",
    "    .config(\"spark.sql.catalog.iceberg.s3.secret-key\", \"password\") \\\n",
    "    .config(\"spark.sql.catalog.iceberg.s3.endpoint\", \"http://minio:9000\") \\\n",
    "    .config(\"spark.sql.catalog.iceberg.s3.path-style-access\", \"true\") \\\n",
    "    .config(\"spark.sql.catalog.iceberg.client.factory\", \"com.starrocks.connector.iceberg.IcebergAwsClientFactory\") \\\n",
    "    .getOrCreate()\n",
    "\n",
    "print(\"Spark Running\")\n",
    "print(spark.sparkContext.getConf().getAll())\n",
    "print(\"current catalog:\", spark.catalog.currentCatalog())\n",
    "print(\"Spark UI:\", spark.sparkContext.uiWebUrl)"
   ]
  },
  {
   "cell_type": "code",
   "execution_count": 2,
   "metadata": {},
   "outputs": [],
   "source": [
    "def clean_csv(file_path):\n",
    "    with open(file_path, 'r') as file:\n",
    "        lines = file.readlines()\n",
    "    \n",
    "    with open(file_path, 'w') as file:\n",
    "        for line in lines:\n",
    "            file.write(line.rstrip().rstrip(',') + '\\n')"
   ]
  },
  {
   "cell_type": "code",
   "execution_count": 3,
   "metadata": {},
   "outputs": [
    {
     "name": "stderr",
     "output_type": "stream",
     "text": [
      "24/07/15 00:42:01 WARN SparkStringUtils: Truncated the string representation of a plan since it was too large. This behavior can be adjusted by setting 'spark.sql.debug.maxToStringFields'.\n",
      "                                                                                \r"
     ]
    }
   ],
   "source": [
    "import os\n",
    "from pathlib import Path\n",
    "\n",
    "wbi_data_path = \"/home/iceberg/data/world_bank_data\"\n",
    "csv_files = [file for file in os.listdir(wbi_data_path) if file.endswith(\".csv\")]\n",
    "\n",
    "spark.sql(\"CREATE NAMESPACE IF NOT EXISTS raw\")\n",
    "\n",
    "for csv in csv_files:\n",
    "  file_path = os.path.join(wbi_data_path, csv)\n",
    "  clean_csv(file_path)\n",
    "  file_name = Path(file_path).stem\n",
    "  file_name = file_name.replace(\"-\", \"_\")\n",
    "\n",
    "  df = spark.read.option('header', 'true').csv(file_path)\n",
    "  df.createOrReplaceTempView(f\"{file_name}_tempTable\")\n",
    "\n",
    "  spark.sql(f\"CREATE TABLE IF NOT EXISTS raw.world_development_indicators.{file_name} as select * from {file_name}_tempTable\")\n",
    "  spark.catalog.dropTempView(f\"{file_name}_tempTable\")\n"
   ]
  },
  {
   "cell_type": "code",
   "execution_count": 4,
   "metadata": {},
   "outputs": [
    {
     "name": "stderr",
     "output_type": "stream",
     "text": [
      "                                                                                \r"
     ]
    }
   ],
   "source": [
    "emissions_data_path = \"/home/iceberg/data/emissions_data\"\n",
    "\n",
    "for year in [2017, 2018, 2019]:\n",
    "  file_path = f\"{emissions_data_path}/co2_emissions_passenger_cars_{year}.json\"\n",
    "  file_name = Path(file_path).stem\n",
    "\n",
    "  df = spark.read.option(\"multiline\",\"true\").json(file_path)\n",
    "  df.createOrReplaceTempView(f\"{file_name}_tempTable\")\n",
    "  spark.sql(f\"CREATE TABLE IF NOT EXISTS raw.co2_passenger_cars_emissions.{file_name} as select * from {file_name}_tempTable\")\n",
    "  spark.catalog.dropTempView(f\"{file_name}_tempTable\")\n"
   ]
  },
  {
   "cell_type": "code",
   "execution_count": 5,
   "metadata": {},
   "outputs": [
    {
     "name": "stdout",
     "output_type": "stream",
     "text": [
      "root\n",
      " |-- Country Name: string (nullable = true)\n",
      " |-- Country Code: string (nullable = true)\n",
      " |-- Indicator Name: string (nullable = true)\n",
      " |-- Indicator Code: string (nullable = true)\n",
      " |-- 1960: string (nullable = true)\n",
      " |-- 1961: string (nullable = true)\n",
      " |-- 1962: string (nullable = true)\n",
      " |-- 1963: string (nullable = true)\n",
      " |-- 1964: string (nullable = true)\n",
      " |-- 1965: string (nullable = true)\n",
      " |-- 1966: string (nullable = true)\n",
      " |-- 1967: string (nullable = true)\n",
      " |-- 1968: string (nullable = true)\n",
      " |-- 1969: string (nullable = true)\n",
      " |-- 1970: string (nullable = true)\n",
      " |-- 1971: string (nullable = true)\n",
      " |-- 1972: string (nullable = true)\n",
      " |-- 1973: string (nullable = true)\n",
      " |-- 1974: string (nullable = true)\n",
      " |-- 1975: string (nullable = true)\n",
      " |-- 1976: string (nullable = true)\n",
      " |-- 1977: string (nullable = true)\n",
      " |-- 1978: string (nullable = true)\n",
      " |-- 1979: string (nullable = true)\n",
      " |-- 1980: string (nullable = true)\n",
      " |-- 1981: string (nullable = true)\n",
      " |-- 1982: string (nullable = true)\n",
      " |-- 1983: string (nullable = true)\n",
      " |-- 1984: string (nullable = true)\n",
      " |-- 1985: string (nullable = true)\n",
      " |-- 1986: string (nullable = true)\n",
      " |-- 1987: string (nullable = true)\n",
      " |-- 1988: string (nullable = true)\n",
      " |-- 1989: string (nullable = true)\n",
      " |-- 1990: string (nullable = true)\n",
      " |-- 1991: string (nullable = true)\n",
      " |-- 1992: string (nullable = true)\n",
      " |-- 1993: string (nullable = true)\n",
      " |-- 1994: string (nullable = true)\n",
      " |-- 1995: string (nullable = true)\n",
      " |-- 1996: string (nullable = true)\n",
      " |-- 1997: string (nullable = true)\n",
      " |-- 1998: string (nullable = true)\n",
      " |-- 1999: string (nullable = true)\n",
      " |-- 2000: string (nullable = true)\n",
      " |-- 2001: string (nullable = true)\n",
      " |-- 2002: string (nullable = true)\n",
      " |-- 2003: string (nullable = true)\n",
      " |-- 2004: string (nullable = true)\n",
      " |-- 2005: string (nullable = true)\n",
      " |-- 2006: string (nullable = true)\n",
      " |-- 2007: string (nullable = true)\n",
      " |-- 2008: string (nullable = true)\n",
      " |-- 2009: string (nullable = true)\n",
      " |-- 2010: string (nullable = true)\n",
      " |-- 2011: string (nullable = true)\n",
      " |-- 2012: string (nullable = true)\n",
      " |-- 2013: string (nullable = true)\n",
      " |-- 2014: string (nullable = true)\n",
      " |-- 2015: string (nullable = true)\n",
      " |-- 2016: string (nullable = true)\n",
      " |-- 2017: string (nullable = true)\n",
      " |-- 2018: string (nullable = true)\n",
      " |-- 2019: string (nullable = true)\n",
      " |-- 2020: string (nullable = true)\n",
      "\n",
      "root\n",
      " |-- At1 (mm): long (nullable = true)\n",
      " |-- At2 (mm): long (nullable = true)\n",
      " |-- Cn: string (nullable = true)\n",
      " |-- Cr: string (nullable = true)\n",
      " |-- Ct: string (nullable = true)\n",
      " |-- De: string (nullable = true)\n",
      " |-- E (g/km): string (nullable = true)\n",
      " |-- Enedc (g/km): long (nullable = true)\n",
      " |-- Er (g/km): string (nullable = true)\n",
      " |-- Ernedc (g/km): double (nullable = true)\n",
      " |-- Erwltp (g/km): long (nullable = true)\n",
      " |-- Ewltp (g/km): long (nullable = true)\n",
      " |-- Fm: string (nullable = true)\n",
      " |-- Ft: string (nullable = true)\n",
      " |-- ID: long (nullable = true)\n",
      " |-- It: string (nullable = true)\n",
      " |-- MMS: string (nullable = true)\n",
      " |-- MS: string (nullable = true)\n",
      " |-- Man: string (nullable = true)\n",
      " |-- Mh: string (nullable = true)\n",
      " |-- Mk: string (nullable = true)\n",
      " |-- Mp: string (nullable = true)\n",
      " |-- Mt: long (nullable = true)\n",
      " |-- Status: string (nullable = true)\n",
      " |-- T: string (nullable = true)\n",
      " |-- TAN: string (nullable = true)\n",
      " |-- VFN: string (nullable = true)\n",
      " |-- Va: string (nullable = true)\n",
      " |-- Ve: string (nullable = true)\n",
      " |-- Vf: string (nullable = true)\n",
      " |-- W (mm): long (nullable = true)\n",
      " |-- Zr: string (nullable = true)\n",
      " |-- ec (cm3): long (nullable = true)\n",
      " |-- ep (KW): long (nullable = true)\n",
      " |-- m (kg): long (nullable = true)\n",
      " |-- r: long (nullable = true)\n",
      " |-- version_file: string (nullable = true)\n",
      " |-- year: long (nullable = true)\n",
      " |-- z (Wh/km): long (nullable = true)\n",
      "\n"
     ]
    }
   ],
   "source": [
    "iceberg_data_df = spark.read.table(\"raw.world_development_indicators.WDIData\")\n",
    "iceberg_co2_emissions_df = spark.read.table(\"raw.co2_passenger_cars_emissions.co2_emissions_passenger_cars_2017\")\n",
    "\n",
    "iceberg_data_df.printSchema()\n",
    "iceberg_co2_emissions_df.printSchema()"
   ]
  },
  {
   "cell_type": "code",
   "execution_count": 6,
   "metadata": {},
   "outputs": [
    {
     "name": "stdout",
     "output_type": "stream",
     "text": [
      "Number of records  for CO2 emissions DF: 100000\n",
      "Number of records  for World Development Indicators: 383838\n"
     ]
    }
   ],
   "source": [
    "print(f\"Number of records  for CO2 emissions DF: {iceberg_co2_emissions_df.count()}\")\n",
    "print(f\"Number of records  for World Development Indicators: {iceberg_data_df.count()}\")"
   ]
  },
  {
   "cell_type": "code",
   "execution_count": 7,
   "metadata": {},
   "outputs": [
    {
     "data": {
      "text/plain": [
       "DataFrame[summary: string, At1 (mm): string, At2 (mm): string, Cn: string, Cr: string, Ct: string, De: string, E (g/km): string, Enedc (g/km): string, Er (g/km): string, Ernedc (g/km): string, Erwltp (g/km): string, Ewltp (g/km): string, Fm: string, Ft: string, ID: string, It: string, MMS: string, MS: string, Man: string, Mh: string, Mk: string, Mp: string, Mt: string, Status: string, T: string, TAN: string, VFN: string, Va: string, Ve: string, Vf: string, W (mm): string, Zr: string, ec (cm3): string, ep (KW): string, m (kg): string, r: string, version_file: string, year: string, z (Wh/km): string]"
      ]
     },
     "metadata": {},
     "output_type": "display_data"
    }
   ],
   "source": [
    "display(iceberg_co2_emissions_df.describe())"
   ]
  },
  {
   "cell_type": "code",
   "execution_count": 8,
   "metadata": {},
   "outputs": [
    {
     "data": {
      "text/plain": [
       "DataFrame[summary: string, Country Name: string, Country Code: string, Indicator Name: string, Indicator Code: string, 1960: string, 1961: string, 1962: string, 1963: string, 1964: string, 1965: string, 1966: string, 1967: string, 1968: string, 1969: string, 1970: string, 1971: string, 1972: string, 1973: string, 1974: string, 1975: string, 1976: string, 1977: string, 1978: string, 1979: string, 1980: string, 1981: string, 1982: string, 1983: string, 1984: string, 1985: string, 1986: string, 1987: string, 1988: string, 1989: string, 1990: string, 1991: string, 1992: string, 1993: string, 1994: string, 1995: string, 1996: string, 1997: string, 1998: string, 1999: string, 2000: string, 2001: string, 2002: string, 2003: string, 2004: string, 2005: string, 2006: string, 2007: string, 2008: string, 2009: string, 2010: string, 2011: string, 2012: string, 2013: string, 2014: string, 2015: string, 2016: string, 2017: string, 2018: string, 2019: string, 2020: string]"
      ]
     },
     "metadata": {},
     "output_type": "display_data"
    }
   ],
   "source": [
    "display(iceberg_data_df.describe())"
   ]
  },
  {
   "cell_type": "code",
   "execution_count": 9,
   "metadata": {},
   "outputs": [
    {
     "data": {
      "text/plain": [
       "Row(Country Name='Africa Eastern and Southern', Country Code='AFE', Indicator Name='Access to clean fuels and technologies for cooking (% of population)', Indicator Code='EG.CFT.ACCS.ZS', 1960=None, 1961=None, 1962=None, 1963=None, 1964=None, 1965=None, 1966=None, 1967=None, 1968=None, 1969=None, 1970=None, 1971=None, 1972=None, 1973=None, 1974=None, 1975=None, 1976=None, 1977=None, 1978=None, 1979=None, 1980=None, 1981=None, 1982=None, 1983=None, 1984=None, 1985=None, 1986=None, 1987=None, 1988=None, 1989=None, 1990=None, 1991=None, 1992=None, 1993=None, 1994=None, 1995=None, 1996=None, 1997=None, 1998=None, 1999=None, 2000='12.205985334256', 2001='12.5493332143826', 2002='12.8877052744847', 2003='13.2263347774934', 2004='13.5755915831281', 2005='13.9243539706952', 2006='14.2660310520972', 2007='14.5962971181626', 2008='14.9552860566119', 2009='15.2810233296453', 2010='15.6312911024101', 2011='15.9812561302977', 2012='16.320474865037', 2013='16.6432428558172', 2014='16.9946949543723', 2015='17.3131682773135', 2016='17.6049500630141', 2017=None, 2018=None, 2019=None, 2020=None)"
      ]
     },
     "metadata": {},
     "output_type": "display_data"
    }
   ],
   "source": [
    "display(iceberg_data_df.head())"
   ]
  },
  {
   "cell_type": "code",
   "execution_count": 10,
   "metadata": {},
   "outputs": [
    {
     "data": {
      "text/plain": [
       "Row(At1 (mm)=1679, At2 (mm)=1632, Cn='458 SPECIALE A AD S-A', Cr='', Ct='M1', De=None, E (g/km)=None, Enedc (g/km)=559, Er (g/km)=None, Ernedc (g/km)=None, Erwltp (g/km)=None, Ewltp (g/km)=None, Fm='M', Ft='petrol', ID=416839, It='', MMS='FERRARI', MS='GB', Man='FERRARI SPA', Mh='FERRARI', Mk='FERRARI', Mp='', Mt=None, Status='F', T='F142', TAN='e3*2007/46*0040*10', VFN='', Va='AB', Ve='L', Vf=None, W (mm)=2650, Zr=None, ec (cm3)=4497, ep (KW)=None, m (kg)=1485, r=1, version_file='v16', year=2017, z (Wh/km)=None)"
      ]
     },
     "metadata": {},
     "output_type": "display_data"
    }
   ],
   "source": [
    "display(iceberg_co2_emissions_df.head())"
   ]
  },
  {
   "cell_type": "code",
   "execution_count": 11,
   "metadata": {},
   "outputs": [],
   "source": [
    "spark.stop()"
   ]
  }
 ],
 "metadata": {
  "kernelspec": {
   "display_name": "Python 3 (ipykernel)",
   "language": "python",
   "name": "python3"
  },
  "language_info": {
   "codemirror_mode": {
    "name": "ipython",
    "version": 3
   },
   "file_extension": ".py",
   "mimetype": "text/x-python",
   "name": "python",
   "nbconvert_exporter": "python",
   "pygments_lexer": "ipython3",
   "version": "3.9.19"
  }
 },
 "nbformat": 4,
 "nbformat_minor": 2
}
